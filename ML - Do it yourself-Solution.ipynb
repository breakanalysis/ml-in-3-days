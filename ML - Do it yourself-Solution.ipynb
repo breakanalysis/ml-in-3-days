{
 "cells": [
  {
   "cell_type": "markdown",
   "metadata": {},
   "source": [
    "## ML - Do it yourself\n",
    "In this notebook we will get a feel for data generation and a few models."
   ]
  },
  {
   "cell_type": "code",
   "execution_count": 1,
   "metadata": {},
   "outputs": [],
   "source": [
    "import numpy as np\n",
    "import pandas as pd\n",
    "import matplotlib.pyplot as plt"
   ]
  },
  {
   "cell_type": "markdown",
   "metadata": {},
   "source": [
    "### Gaussian distribution\n",
    "- Use np.random.randn to sample 1000 numbers independently from the N(0,1) distribution. This means a random normal (or gaussian) variable with mean 0 and standard deviation 1."
   ]
  },
  {
   "cell_type": "code",
   "execution_count": 2,
   "metadata": {},
   "outputs": [],
   "source": [
    "x = np.random.randn(1000,1)"
   ]
  },
  {
   "cell_type": "markdown",
   "metadata": {},
   "source": [
    "### Convert to pandas dataframe"
   ]
  },
  {
   "cell_type": "code",
   "execution_count": 3,
   "metadata": {},
   "outputs": [],
   "source": [
    "df = pd.DataFrame(x)"
   ]
  },
  {
   "cell_type": "markdown",
   "metadata": {},
   "source": [
    "### Histogram\n",
    "- Use np.histogram to compute histogram for x using bins [-3,-2] , [-2,1], ... , [2,3].\n",
    "- Use df.hist for the same reason (bonus = plot).\n",
    "- Use plt.hist to plot histogram of x."
   ]
  },
  {
   "cell_type": "code",
   "execution_count": 4,
   "metadata": {},
   "outputs": [
    {
     "data": {
      "text/plain": [
       "array([[<matplotlib.axes._subplots.AxesSubplot object at 0x7fa264ea1780>]],\n",
       "      dtype=object)"
      ]
     },
     "execution_count": 4,
     "metadata": {},
     "output_type": "execute_result"
    },
    {
     "data": {
      "image/png": "[encoded data removed]",
      "text/plain": [
       "<Figure size 432x288 with 1 Axes>"
      ]
     },
     "metadata": {},
     "output_type": "display_data"
    }
   ],
   "source": [
    "hist, bins = np.histogram(x, bins=range(-3,4))\n",
    "df.hist()"
   ]
  },
  {
   "cell_type": "code",
   "execution_count": 5,
   "metadata": {},
   "outputs": [
    {
     "data": {
      "text/plain": [
       "(array([  1.,  14.,  59., 129., 248., 255., 183.,  81.,  26.,   4.]),\n",
       " array([-3.55228124, -2.86870958, -2.18513791, -1.50156625, -0.81799459,\n",
       "        -0.13442292,  0.54914874,  1.23272041,  1.91629207,  2.59986374,\n",
       "         3.2834354 ]),\n",
       " <a list of 10 Patch objects>)"
      ]
     },
     "execution_count": 5,
     "metadata": {},
     "output_type": "execute_result"
    },
    {
     "data": {
      "image/png": "[encoded data removed]",
      "text/plain": [
       "<Figure size 432x288 with 1 Axes>"
      ]
     },
     "metadata": {},
     "output_type": "display_data"
    }
   ],
   "source": [
    "plt.hist(x)"
   ]
  },
  {
   "cell_type": "markdown",
   "metadata": {},
   "source": [
    "### Multivariate gaussian\n",
    "- Use np.random.randn to sample 1000 two-dimensional vectors independently from the N(0,1) distribution.\n",
    "- Mean value should be (0,0), and the two components of the vector should be independent. Also each sample should be independent.\n",
    "\n",
    "(The second requirement is true by default)\n"
   ]
  },
  {
   "cell_type": "code",
   "execution_count": 6,
   "metadata": {},
   "outputs": [],
   "source": [
    "twoD = np.random.randn(1000,2)"
   ]
  },
  {
   "cell_type": "markdown",
   "metadata": {},
   "source": [
    "### Scatterplot\n",
    "- Split twoD into two arrays representing the two dimensions.\n",
    "- Use plt.scatter to draw the scatter plot."
   ]
  },
  {
   "cell_type": "code",
   "execution_count": 7,
   "metadata": {},
   "outputs": [
    {
     "data": {
      "text/plain": [
       "<matplotlib.collections.PathCollection at 0x7fa262d28f98>"
      ]
     },
     "execution_count": 7,
     "metadata": {},
     "output_type": "execute_result"
    },
    {
     "data": {
      "image/png": "[encoded data removed]",
      "text/plain": [
       "<Figure size 432x288 with 1 Axes>"
      ]
     },
     "metadata": {},
     "output_type": "display_data"
    }
   ],
   "source": [
    "x = twoD[:,0]\n",
    "y = twoD[:,1]\n",
    "plt.scatter(x,y)"
   ]
  },
  {
   "cell_type": "markdown",
   "metadata": {},
   "source": [
    "### Scale and translate\n",
    "- Transform twoD by scaling both axes by 2.\n",
    "- Transform twoD by adding 5 to x and subtracting 5 from y.\n",
    "- Compute mean (along axis 0) and standard deviation as a sanity check. Means should be close to [1,-1] and standard deviations should be close to [2,2].\n",
    "- Draw the scatter plot again."
   ]
  },
  {
   "cell_type": "code",
   "execution_count": 8,
   "metadata": {},
   "outputs": [],
   "source": [
    "twoD *= 2\n",
    "twoD[:,0] += 5\n",
    "twoD[:,1] -= 5"
   ]
  },
  {
   "cell_type": "markdown",
   "metadata": {},
   "source": [
    "### Append more rows\n",
    "- Sample another 1000 samples of 2D gaussian distribution, again N(0,1) independent entries.\n",
    "- Create a concatenated 2D array with twoD followed by the additional samples. For this use np.vstack."
   ]
  },
  {
   "cell_type": "code",
   "execution_count": 9,
   "metadata": {},
   "outputs": [],
   "source": [
    "twoD2 = np.random.randn(1000,2)\n",
    "X = np.vstack([twoD, twoD2])"
   ]
  },
  {
   "cell_type": "code",
   "execution_count": 10,
   "metadata": {},
   "outputs": [],
   "source": [
    "assert twoD2.shape == (1000,2)\n",
    "assert X.shape == (2000,2)"
   ]
  },
  {
   "cell_type": "markdown",
   "metadata": {},
   "source": [
    "### Adding labels\n",
    "- Make a numpy array with shape (2000,1): 1000 entries of 1 followed by 1000 entries of -1. For this use np.ones and np.vstack. Note that np.ones will need a tuple or similar as argument. (By the way np.zeros is a similar function).\n",
    "- Stack this to the right of X to obtain a (2000,3) shaped array."
   ]
  },
  {
   "cell_type": "code",
   "execution_count": 11,
   "metadata": {},
   "outputs": [],
   "source": [
    "Y = np.vstack([np.ones((1000,1)),-1*np.ones((1000,1))])\n",
    "data = np.hstack([X, Y])"
   ]
  },
  {
   "cell_type": "code",
   "execution_count": 12,
   "metadata": {},
   "outputs": [],
   "source": [
    "assert Y.shape == (2000,1)\n",
    "assert Y.sum() == 0\n",
    "assert Y[0] == 1\n",
    "assert data.shape == (2000,3)\n",
    "assert data[:,2].sum() == 0"
   ]
  },
  {
   "cell_type": "markdown",
   "metadata": {},
   "source": [
    "### Scatter plot\n",
    "- The first 1000 rows with gray. Color is set by the named argument c.\n",
    "- The remaining rows with pink."
   ]
  },
  {
   "cell_type": "code",
   "execution_count": 13,
   "metadata": {},
   "outputs": [
    {
     "data": {
      "text/plain": [
       "<matplotlib.collections.PathCollection at 0x7fa262c8ff98>"
      ]
     },
     "execution_count": 13,
     "metadata": {},
     "output_type": "execute_result"
    },
    {
     "data": {
      "image/png": "[encoded data removed]",
      "text/plain": [
       "<Figure size 432x288 with 1 Axes>"
      ]
     },
     "metadata": {},
     "output_type": "display_data"
    }
   ],
   "source": [
    "plt.scatter(twoD[:,0], twoD[:,1], c='gray')\n",
    "plt.scatter(twoD2[:,0], twoD2[:,1], c='pink')"
   ]
  },
  {
   "cell_type": "markdown",
   "metadata": {},
   "source": [
    "### Shuffle the rows\n",
    "- Use np.random.permutation to create a random index to shuffle the rows with.\n",
    "- Use indexing to create a shuffled version of the data.\n",
    "- Do the same using np.random.shuffle."
   ]
  },
  {
   "cell_type": "code",
   "execution_count": 14,
   "metadata": {},
   "outputs": [],
   "source": [
    "perm = np.random.permutation(2000)\n",
    "data = data[perm]\n",
    "np.random.shuffle(data)"
   ]
  },
  {
   "cell_type": "code",
   "execution_count": 15,
   "metadata": {},
   "outputs": [],
   "source": [
    "assert data[:,2].sum() == 0"
   ]
  },
  {
   "cell_type": "markdown",
   "metadata": {},
   "source": [
    "### Training with without a lib\n",
    "For the sport of it we will do our own version of gradient descent and see if we can learn something!\n",
    "\n",
    "First off, we will use the data set we just created and build a linear binary classifier for it.\n",
    "That is, $h(x,y) = ax + by + c$.\n",
    "\n",
    "The last term is called the bias term. Note that the classifier is a dot-product of vectors:\n",
    "\n",
    "$h(x,y) = w \\cdot X$, where\n",
    "\n",
    "$w = [a,b,c]$, and\n",
    "\n",
    "$X = [x,y,1]$.\n",
    "\n",
    "Thus we have three things at play, the hypothesis $h$, its weight vector $w$, and an augmented feature vector $X$.\n",
    "Note that implementing the bias by adding this last 'always-on' feature to $X$ makes the formula for $h$ very elegant.\n",
    "\n",
    "Now imagine we have a loss function $L$, but we haven't decided quite yet which loss function we want.\n",
    "For each example $(X,c)$, where $c$ is the target, the loss for that example is $L = L(h(X),c)$. We can see this as having one loss-function for $c=-1$ and one for $c=1$, but for this example we are using one of these. To simplify further and lets assume $L = L(ch(X))$.\n",
    "\n",
    "Let's differentiate one of these with respect to one of the weights $w_i$:\n",
    "\n",
    "$$\\frac{\\partial L}{\\partial w_i} = L'(ch(X)) \\frac{\\partial ch(X)}{\\partial w_i} = L'(ch(X)) \\frac{\\partial (w \\cdot X)}{\\partial w_i} = cL'(ch(X))X_i$$.\n",
    "\n",
    "Putting the three partial derivatives in one vector gives us the gradient of the loss\n",
    "\n",
    "$$\\nabla_w L = cL'(ch(X))X$$.\n",
    "\n",
    "Let's pause and examine. The number $cL'(ch(X))$, whatever it is can be seen as a weight or importance of the example X. What gradient descent now wants to do is add $\\nabla_w L$ to the weight vector $w$. So some conclusions:\n",
    "\n",
    "- The update to $w$ is a linear combination of all the examples $X$.\n",
    "- In general $w = w_0 + X^T W$, that is, a (small) start value plus a linear combination of the training examples.\n",
    "- To compute the gradient, we don't need a formula for $L$, we can design $L'$ directly!\n",
    "\n",
    "In general it is better to have a loss function that focuses on the biggest mistakes. An idea we can try is to let\n",
    "$$L'(h(X),c) = e^{-ch(X)}$$.\n",
    "\n",
    "So if $c=1$, the examples with lowest $h(X)$ will be seen as the most important mistakes, and for $c=-1$, the training will focus on examples with highest $h(X)$.\n",
    "\n",
    "We have to apply one trick. This loss will strongly focus on the single or few biggest mistakes which makes learning unstable and noisy. A remedy is to take the median of $L'$ over all examples and truncate $L'$ at a maximum of the median value.\n",
    "\n",
    "Finally we will normalize the example weights so that they sum to $1$."
   ]
  },
  {
   "cell_type": "markdown",
   "metadata": {},
   "source": [
    "### Exercise\n",
    "- Define the derivative of L as a function to be the exponential function above. Use np.exp.\n",
    "- Note that we want L' and not cL'.\n",
    "- The function has only one argument s, which means the caller should provide the value $s=ch(X)$.\n",
    "- Name the function dL."
   ]
  },
  {
   "cell_type": "code",
   "execution_count": 16,
   "metadata": {},
   "outputs": [],
   "source": [
    "def dL(s):\n",
    "    return np.exp(-s)"
   ]
  },
  {
   "cell_type": "markdown",
   "metadata": {},
   "source": [
    "### Exercise\n",
    "- Define the hypothesis as a function h(X,w).\n",
    "- The weight vector w has shape (3,).\n",
    "- The input X is a numpy array with shape (N,3).\n",
    "- The output is a numpy array with shape (N,).\n",
    "\n",
    "Comment: the output represents the classifier's score for all of the $N$ examples.\n",
    "\n",
    "Hint: You can use matrix multiplication or indexing."
   ]
  },
  {
   "cell_type": "code",
   "execution_count": 17,
   "metadata": {},
   "outputs": [],
   "source": [
    "def h(X,w):\n",
    "    return np.matmul(X,w)"
   ]
  },
  {
   "cell_type": "markdown",
   "metadata": {},
   "source": [
    "### Exercise\n",
    "- Create X by copying data.\n",
    "- Replace the target column's values by all 1's."
   ]
  },
  {
   "cell_type": "code",
   "execution_count": 18,
   "metadata": {
    "scrolled": true
   },
   "outputs": [],
   "source": [
    "X = data.copy()\n",
    "X[:,2] = 1"
   ]
  },
  {
   "cell_type": "markdown",
   "metadata": {},
   "source": [
    "### Exercise\n",
    "- Fill in the gaps in the fit method below, indicated by tripple comments ###."
   ]
  },
  {
   "cell_type": "code",
   "execution_count": 19,
   "metadata": {},
   "outputs": [
    {
     "name": "stdout",
     "output_type": "stream",
     "text": [
      "accuracy for epoch 0 is 0.586\n",
      "accuracy for epoch 1 is 0.8985\n",
      "accuracy for epoch 2 is 0.9385\n",
      "accuracy for epoch 3 is 0.96\n",
      "accuracy for epoch 4 is 0.9655\n",
      "accuracy for epoch 5 is 0.971\n",
      "accuracy for epoch 6 is 0.974\n",
      "accuracy for epoch 7 is 0.9765\n",
      "accuracy for epoch 8 is 0.978\n",
      "accuracy for epoch 9 is 0.9785\n",
      "accuracy for epoch 10 is 0.979\n",
      "accuracy for epoch 11 is 0.979\n",
      "accuracy for epoch 12 is 0.9795\n",
      "accuracy for epoch 13 is 0.98\n",
      "accuracy for epoch 14 is 0.98\n",
      "accuracy for epoch 15 is 0.9805\n",
      "accuracy for epoch 16 is 0.981\n",
      "accuracy for epoch 17 is 0.9815\n",
      "accuracy for epoch 18 is 0.983\n",
      "accuracy for epoch 19 is 0.983\n"
     ]
    },
    {
     "data": {
      "image/png": "[encoded data removed]",
      "text/plain": [
       "<Figure size 432x288 with 1 Axes>"
      ]
     },
     "metadata": {},
     "output_type": "display_data"
    }
   ],
   "source": [
    "# Learning rate, try different values if you want. What is the connection to epochs?\n",
    "lr = 1.5\n",
    "# Epochs is the number of passes through the data and also the number of weight updates.\n",
    "epochs = 20\n",
    "\n",
    "# x values for plotting\n",
    "ticks = [-4 + 0.16*t for t in range(100)]\n",
    "\n",
    "# plot data \n",
    "plt.scatter(twoD2[:,0], twoD2[:,1], c='pink')\n",
    "plt.scatter(twoD[:,0], twoD[:,1], c='gray')\n",
    "\n",
    "# initialization of weights\n",
    "w = np.random.randn(3)\n",
    "\n",
    "for epoch in range(epochs):\n",
    "    # compute gradient\n",
    "    scores = h(X,w)\n",
    "    sign_scores = scores * data[:,2]\n",
    "    acc = (sign_scores > 0).sum()/2000\n",
    "    print('accuracy for epoch %s is %s' % (epoch, acc))\n",
    "    example_weights = dL(sign_scores)\n",
    "    median = np.median(example_weights)\n",
    "    example_weights = np.array([w if w < median else median for w in example_weights])\n",
    "    example_weights /= example_weights.sum()\n",
    "    example_weights = example_weights * data[:,2]\n",
    "    grad = np.matmul(X.T,example_weights)\n",
    "    # update weights\n",
    "    w += lr*grad\n",
    "    a, b, c = w\n",
    "    # y-values of the decision boundary line\n",
    "    boundary_y = [-(a*x + c)/b for x in ticks]\n",
    "    boundary_y = [b if b < 15 else 15 for b in boundary_y]\n",
    "    boundary_y = [b if b > -15 else -15 for b in boundary_y]\n",
    "    gray = 1-epoch/epochs\n",
    "    plt.plot(ticks, boundary_y, label='epoch: ' + str(epoch), c = (gray,gray,gray))\n",
    "    \n",
    "plt.legend()\n",
    "plt.show()"
   ]
  },
  {
   "cell_type": "markdown",
   "metadata": {},
   "source": [
    "### Sklearn\n",
    "Sklearn, or scikit-learn, is a very popular, lightweight and easy to use library for machine learning.\n",
    "It allows you to train models using a few lines of code but still is flexible for extension, varying algorithms, metrics, loss-functions and other hyper parameters.\n",
    "\n",
    "We will train a logistic regression model for the same data set as above."
   ]
  },
  {
   "cell_type": "code",
   "execution_count": 20,
   "metadata": {},
   "outputs": [],
   "source": [
    "from sklearn.linear_model import LogisticRegression"
   ]
  },
  {
   "cell_type": "code",
   "execution_count": 21,
   "metadata": {},
   "outputs": [],
   "source": [
    "reg = LogisticRegression()"
   ]
  },
  {
   "cell_type": "markdown",
   "metadata": {},
   "source": [
    "ML algorithms, or Inducers, in sklearn have few but important methods. Take a look at the help for 'fit' and 'predict'. Also if you type reg.<tab\\> you will see what methods are supported."
   ]
  },
  {
   "cell_type": "code",
   "execution_count": null,
   "metadata": {
    "scrolled": true
   },
   "outputs": [],
   "source": []
  },
  {
   "cell_type": "markdown",
   "metadata": {},
   "source": [
    "### Exercise\n",
    "- Fit the logistic regression model to data"
   ]
  },
  {
   "cell_type": "code",
   "execution_count": 22,
   "metadata": {
    "scrolled": false
   },
   "outputs": [
    {
     "data": {
      "text/plain": [
       "LogisticRegression(C=1.0, class_weight=None, dual=False, fit_intercept=True,\n",
       "          intercept_scaling=1, max_iter=100, multi_class='ovr', n_jobs=1,\n",
       "          penalty='l2', random_state=None, solver='liblinear', tol=0.0001,\n",
       "          verbose=0, warm_start=False)"
      ]
     },
     "execution_count": 22,
     "metadata": {},
     "output_type": "execute_result"
    }
   ],
   "source": [
    "reg.fit(data[:,:-1], data[:,-1])"
   ]
  },
  {
   "cell_type": "markdown",
   "metadata": {},
   "source": [
    "We can see all the values of hyperparameters used above. We can also programatically access them:"
   ]
  },
  {
   "cell_type": "code",
   "execution_count": 23,
   "metadata": {
    "scrolled": false
   },
   "outputs": [
    {
     "data": {
      "text/plain": [
       "{'C': 1.0,\n",
       " 'class_weight': None,\n",
       " 'dual': False,\n",
       " 'fit_intercept': True,\n",
       " 'intercept_scaling': 1,\n",
       " 'max_iter': 100,\n",
       " 'multi_class': 'ovr',\n",
       " 'n_jobs': 1,\n",
       " 'penalty': 'l2',\n",
       " 'random_state': None,\n",
       " 'solver': 'liblinear',\n",
       " 'tol': 0.0001,\n",
       " 'verbose': 0,\n",
       " 'warm_start': False}"
      ]
     },
     "execution_count": 23,
     "metadata": {},
     "output_type": "execute_result"
    }
   ],
   "source": [
    "reg.get_params()"
   ]
  },
  {
   "cell_type": "markdown",
   "metadata": {},
   "source": [
    "The weights can be accessed like so:"
   ]
  },
  {
   "cell_type": "code",
   "execution_count": 24,
   "metadata": {},
   "outputs": [
    {
     "data": {
      "text/plain": [
       "(1.5567893981976932, -1.8091344167098358, -6.22393900604207)"
      ]
     },
     "execution_count": 24,
     "metadata": {},
     "output_type": "execute_result"
    }
   ],
   "source": [
    "a,b = reg.coef_[0]\n",
    "c = reg.intercept_[0]\n",
    "(a,b,c)"
   ]
  },
  {
   "cell_type": "markdown",
   "metadata": {},
   "source": [
    "### Plot\n",
    "We use the same code as above to plot the logistic regression decision boundary."
   ]
  },
  {
   "cell_type": "code",
   "execution_count": 25,
   "metadata": {
    "scrolled": true
   },
   "outputs": [
    {
     "data": {
      "text/plain": [
       "[<matplotlib.lines.Line2D at 0x7fa257853da0>]"
      ]
     },
     "execution_count": 25,
     "metadata": {},
     "output_type": "execute_result"
    },
    {
     "data": {
      "image/png": "[encoded data removed]",
      "text/plain": [
       "<Figure size 432x288 with 1 Axes>"
      ]
     },
     "metadata": {},
     "output_type": "display_data"
    }
   ],
   "source": [
    "plt.scatter(twoD2[:,0], twoD2[:,1], c='pink')\n",
    "plt.scatter(twoD[:,0], twoD[:,1], c='gray')\n",
    "ticks = [-4 + 0.16*t for t in range(100)]\n",
    "boundary_y = [-(a*x + c)/b for x in ticks]\n",
    "boundary_y = [b if b < 15 else 15 for b in boundary_y]\n",
    "boundary_y = [b if b > -15 else -15 for b in boundary_y]\n",
    "gray = 1-epoch/epochs\n",
    "plt.plot(ticks, boundary_y, label='epoch: ' + str(epoch), c = (gray,gray,gray))\n"
   ]
  },
  {
   "cell_type": "markdown",
   "metadata": {},
   "source": [
    "### Exercise\n",
    "- Get the model's predictions for the entire data set.\n",
    "- Compute the accuracy of the classifier on the training set."
   ]
  },
  {
   "cell_type": "code",
   "execution_count": 26,
   "metadata": {},
   "outputs": [],
   "source": [
    "pred = reg.predict(data[:,:-1])"
   ]
  },
  {
   "cell_type": "code",
   "execution_count": 27,
   "metadata": {},
   "outputs": [
    {
     "data": {
      "text/plain": [
       "0.996"
      ]
     },
     "execution_count": 27,
     "metadata": {},
     "output_type": "execute_result"
    }
   ],
   "source": [
    "(pred == data[:,-1]).sum()/2000"
   ]
  },
  {
   "cell_type": "markdown",
   "metadata": {},
   "source": [
    "### Exercise\n",
    "- Perform 5-fold cross validation with logistic regression by using cross_val_score.\n",
    "- The evaluation metric is accuracy.\n",
    "- Only 1 line of code!"
   ]
  },
  {
   "cell_type": "code",
   "execution_count": 28,
   "metadata": {},
   "outputs": [],
   "source": [
    "from sklearn.model_selection import cross_val_score"
   ]
  },
  {
   "cell_type": "code",
   "execution_count": 29,
   "metadata": {},
   "outputs": [
    {
     "data": {
      "text/plain": [
       "array([0.9975, 0.9975, 0.9925, 0.995 , 0.9975])"
      ]
     },
     "execution_count": 29,
     "metadata": {},
     "output_type": "execute_result"
    }
   ],
   "source": [
    "reg = LogisticRegression()\n",
    "cross_val_score(reg, data[:,:-1], data[:,-1], scoring='accuracy', cv=5)"
   ]
  },
  {
   "cell_type": "markdown",
   "metadata": {},
   "source": [
    "For other metrics see http://scikit-learn.org/stable/modules/model_evaluation.html#scoring-parameter"
   ]
  },
  {
   "cell_type": "markdown",
   "metadata": {},
   "source": [
    "## Learning Curve"
   ]
  },
  {
   "cell_type": "code",
   "execution_count": 30,
   "metadata": {},
   "outputs": [],
   "source": [
    "from sklearn.model_selection import learning_curve"
   ]
  },
  {
   "cell_type": "markdown",
   "metadata": {},
   "source": [
    "### Exercise\n",
    "- Retrain the logistic regression model above but use sklearn's validation_curve method to get training and validation scores over training iterations. Specify train_sizes=np.linspace(0.1, 1.0, 200) and use 5 fold cross validation.\n",
    "- Average the output scores over folds.\n",
    "- Plot train scores and test scores in the same plot.\n",
    "- Repeat the above for \"neg_log_loss\" instead of accuracy."
   ]
  },
  {
   "cell_type": "code",
   "execution_count": 31,
   "metadata": {},
   "outputs": [],
   "source": [
    "sizes, train_scores, test_scores = learning_curve(LogisticRegression(), data[:,:-1], data[:,-1], cv=5, scoring='accuracy', train_sizes=np.linspace(0.1,1.0,200))"
   ]
  },
  {
   "cell_type": "code",
   "execution_count": 32,
   "metadata": {},
   "outputs": [
    {
     "data": {
      "text/plain": [
       "<matplotlib.legend.Legend at 0x7fa25779c518>"
      ]
     },
     "execution_count": 32,
     "metadata": {},
     "output_type": "execute_result"
    },
    {
     "data": {
      "image/png": "[encoded data removed]",
      "text/plain": [
       "<Figure size 432x288 with 1 Axes>"
      ]
     },
     "metadata": {},
     "output_type": "display_data"
    }
   ],
   "source": [
    "train_scores_mean = train_scores.mean(axis=1)\n",
    "test_scores_mean = test_scores.mean(axis=1)\n",
    "\n",
    "plt.plot(sizes, train_scores_mean, c='red', label='train')\n",
    "plt.plot(sizes, test_scores_mean, c='blue', label='test')\n",
    "plt.legend()"
   ]
  },
  {
   "cell_type": "code",
   "execution_count": 33,
   "metadata": {},
   "outputs": [],
   "source": [
    "sizes, train_scores, test_scores = learning_curve(LogisticRegression(), data[:,:-1], data[:,-1], cv=5, scoring='neg_log_loss', train_sizes=np.linspace(0.1,1.0,200))"
   ]
  },
  {
   "cell_type": "code",
   "execution_count": 34,
   "metadata": {},
   "outputs": [
    {
     "data": {
      "text/plain": [
       "<matplotlib.legend.Legend at 0x7fa2577f0748>"
      ]
     },
     "execution_count": 34,
     "metadata": {},
     "output_type": "execute_result"
    },
    {
     "data": {
      "image/png": "[encoded data removed]",
      "text/plain": [
       "<Figure size 432x288 with 1 Axes>"
      ]
     },
     "metadata": {},
     "output_type": "display_data"
    }
   ],
   "source": [
    "train_scores_mean = train_scores.mean(axis=1)\n",
    "test_scores_mean = test_scores.mean(axis=1)\n",
    "\n",
    "plt.plot(sizes, -train_scores_mean, c='red', label='train')\n",
    "plt.plot(sizes, -test_scores_mean, c='blue', label='test')\n",
    "plt.legend()"
   ]
  }
 ],
 "metadata": {
  "kernelspec": {
   "display_name": "Python 3",
   "language": "python",
   "name": "python3"
  },
  "language_info": {
   "codemirror_mode": {
    "name": "ipython",
    "version": 3
   },
   "file_extension": ".py",
   "mimetype": "text/x-python",
   "name": "python",
   "nbconvert_exporter": "python",
   "pygments_lexer": "ipython3",
   "version": "3.6.6"
  }
 },
 "nbformat": 4,
 "nbformat_minor": 2
}
