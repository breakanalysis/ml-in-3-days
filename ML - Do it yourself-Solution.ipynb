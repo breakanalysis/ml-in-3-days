{
 "cells": [
  {
   "cell_type": "markdown",
   "metadata": {},
   "source": [
    "## ML - Do it yourself\n",
    "In this notebook we will get a feel for data generation and a few models."
   ]
  },
  {
   "cell_type": "code",
   "execution_count": 1,
   "metadata": {},
   "outputs": [],
   "source": [
    "import numpy as np\n",
    "import pandas as pd\n",
    "import matplotlib.pyplot as plt\n",
    "import warnings\n",
    "warnings.filterwarnings('ignore')"
   ]
  },
  {
   "cell_type": "markdown",
   "metadata": {},
   "source": [
    "### Gaussian distribution\n",
    "- Use np.random.randn to sample 1000 numbers independently from the N(0,1) distribution. This means a random normal (or gaussian) variable with mean 0 and standard deviation 1."
   ]
  },
  {
   "cell_type": "code",
   "execution_count": 2,
   "metadata": {},
   "outputs": [],
   "source": [
    "x = np.random.randn(1000,1)"
   ]
  },
  {
   "cell_type": "markdown",
   "metadata": {},
   "source": [
    "### Convert to pandas dataframe"
   ]
  },
  {
   "cell_type": "code",
   "execution_count": 3,
   "metadata": {},
   "outputs": [],
   "source": [
    "df = pd.DataFrame(x)"
   ]
  },
  {
   "cell_type": "markdown",
   "metadata": {},
   "source": [
    "### Histogram\n",
    "- Use np.histogram to compute histogram for x using bins [-3,-2] , [-2,1], ... , [2,3].\n",
    "- Use df.hist for the same reason (bonus = plot).\n",
    "- Use plt.hist to plot histogram of x."
   ]
  },
  {
   "cell_type": "code",
   "execution_count": 4,
   "metadata": {},
   "outputs": [
    {
     "data": {
      "text/plain": [
       "array([[<matplotlib.axes._subplots.AxesSubplot object at 0x7f1f4ab8f860>]],\n",
       "      dtype=object)"
      ]
     },
     "execution_count": 4,
     "metadata": {},
     "output_type": "execute_result"
    },
    {
     "data": {
      "image/png": "[encoded data removed]",
      "text/plain": [
       "<Figure size 432x288 with 1 Axes>"
      ]
     },
     "metadata": {},
     "output_type": "display_data"
    }
   ],
   "source": [
    "hist, bins = np.histogram(x, bins=range(-3,4))\n",
    "df.hist()"
   ]
  },
  {
   "cell_type": "code",
   "execution_count": 5,
   "metadata": {},
   "outputs": [
    {
     "data": {
      "text/plain": [
       "(array([  7.,  23.,  72., 140., 251., 222., 168.,  84.,  28.,   5.]),\n",
       " array([-3.02543855, -2.42933743, -1.83323631, -1.23713519, -0.64103407,\n",
       "        -0.04493295,  0.55116817,  1.14726929,  1.7433704 ,  2.33947152,\n",
       "         2.93557264]),\n",
       " <a list of 10 Patch objects>)"
      ]
     },
     "execution_count": 5,
     "metadata": {},
     "output_type": "execute_result"
    },
    {
     "data": {
      "image/png": "[encoded data removed]",
      "text/plain": [
       "<Figure size 432x288 with 1 Axes>"
      ]
     },
     "metadata": {},
     "output_type": "display_data"
    }
   ],
   "source": [
    "plt.hist(x)"
   ]
  },
  {
   "cell_type": "markdown",
   "metadata": {},
   "source": [
    "### Multivariate gaussian\n",
    "- Use np.random.randn to sample 1000 two-dimensional vectors independently from the N(0,1) distribution.\n",
    "- Mean value should be (0,0), and the two components of the vector should be independent. Also each sample should be independent.\n",
    "\n",
    "(The second requirement is true by default)\n"
   ]
  },
  {
   "cell_type": "code",
   "execution_count": 6,
   "metadata": {},
   "outputs": [],
   "source": [
    "twoD = np.random.randn(1000,2)"
   ]
  },
  {
   "cell_type": "markdown",
   "metadata": {},
   "source": [
    "### Scatterplot\n",
    "- Split twoD into two arrays representing the two dimensions.\n",
    "- Use plt.scatter to draw the scatter plot."
   ]
  },
  {
   "cell_type": "code",
   "execution_count": 7,
   "metadata": {},
   "outputs": [
    {
     "data": {
      "text/plain": [
       "<matplotlib.collections.PathCollection at 0x7f1f4899a0b8>"
      ]
     },
     "execution_count": 7,
     "metadata": {},
     "output_type": "execute_result"
    },
    {
     "data": {
      "image/png": "[encoded data removed]",
      "text/plain": [
       "<Figure size 432x288 with 1 Axes>"
      ]
     },
     "metadata": {},
     "output_type": "display_data"
    }
   ],
   "source": [
    "x = twoD[:,0]\n",
    "y = twoD[:,1]\n",
    "plt.scatter(x,y)"
   ]
  },
  {
   "cell_type": "markdown",
   "metadata": {},
   "source": [
    "### Scale and translate\n",
    "- Transform twoD by scaling both axes by 2.\n",
    "- Transform twoD by adding 5 to x and subtracting 5 from y.\n",
    "- Compute mean (along axis 0) and standard deviation as a sanity check. Means should be close to [1,-1] and standard deviations should be close to [2,2].\n",
    "- Draw the scatter plot again."
   ]
  },
  {
   "cell_type": "code",
   "execution_count": 8,
   "metadata": {},
   "outputs": [],
   "source": [
    "twoD *= 2\n",
    "twoD[:,0] += 5\n",
    "twoD[:,1] -= 5"
   ]
  },
  {
   "cell_type": "markdown",
   "metadata": {},
   "source": [
    "### Append more rows\n",
    "- Sample another 1000 samples of 2D gaussian distribution, again N(0,1) independent entries.\n",
    "- Create a concatenated 2D array with twoD followed by the additional samples. For this use np.vstack."
   ]
  },
  {
   "cell_type": "code",
   "execution_count": 9,
   "metadata": {},
   "outputs": [],
   "source": [
    "twoD2 = np.random.randn(1000,2)\n",
    "X = np.vstack([twoD, twoD2])"
   ]
  },
  {
   "cell_type": "code",
   "execution_count": 10,
   "metadata": {},
   "outputs": [],
   "source": [
    "assert twoD2.shape == (1000,2)\n",
    "assert X.shape == (2000,2)"
   ]
  },
  {
   "cell_type": "markdown",
   "metadata": {},
   "source": [
    "### Adding labels\n",
    "- Make a numpy array with shape (2000,1): 1000 entries of 1 followed by 1000 entries of -1. For this use np.ones and np.vstack. Note that np.ones will need a tuple or similar as argument. (By the way np.zeros is a similar function).\n",
    "- Stack this to the right of X to obtain a (2000,3) shaped array."
   ]
  },
  {
   "cell_type": "code",
   "execution_count": 11,
   "metadata": {},
   "outputs": [],
   "source": [
    "Y = np.vstack([np.ones((1000,1)),-1*np.ones((1000,1))])\n",
    "data = np.hstack([X, Y])"
   ]
  },
  {
   "cell_type": "code",
   "execution_count": 12,
   "metadata": {},
   "outputs": [],
   "source": [
    "assert Y.shape == (2000,1)\n",
    "assert Y.sum() == 0\n",
    "assert Y[0] == 1\n",
    "assert data.shape == (2000,3)\n",
    "assert data[:,2].sum() == 0"
   ]
  },
  {
   "cell_type": "markdown",
   "metadata": {},
   "source": [
    "### Scatter plot\n",
    "- The first 1000 rows with gray. Color is set by the named argument c.\n",
    "- The remaining rows with pink."
   ]
  },
  {
   "cell_type": "code",
   "execution_count": 13,
   "metadata": {},
   "outputs": [
    {
     "data": {
      "text/plain": [
       "<matplotlib.collections.PathCollection at 0x7f1f48982198>"
      ]
     },
     "execution_count": 13,
     "metadata": {},
     "output_type": "execute_result"
    },
    {
     "data": {
      "image/png": "[encoded data removed]",
      "text/plain": [
       "<Figure size 432x288 with 1 Axes>"
      ]
     },
     "metadata": {},
     "output_type": "display_data"
    }
   ],
   "source": [
    "plt.scatter(twoD[:,0], twoD[:,1], c='gray')\n",
    "plt.scatter(twoD2[:,0], twoD2[:,1], c='pink')"
   ]
  },
  {
   "cell_type": "markdown",
   "metadata": {},
   "source": [
    "### Shuffle the rows\n",
    "- Use np.random.permutation to create a random index to shuffle the rows with.\n",
    "- Use indexing to create a shuffled version of the data.\n",
    "- Do the same using np.random.shuffle."
   ]
  },
  {
   "cell_type": "code",
   "execution_count": 14,
   "metadata": {},
   "outputs": [],
   "source": [
    "perm = np.random.permutation(2000)\n",
    "data = data[perm]\n",
    "np.random.shuffle(data)"
   ]
  },
  {
   "cell_type": "code",
   "execution_count": 15,
   "metadata": {},
   "outputs": [],
   "source": [
    "assert data[:,2].sum() == 0"
   ]
  },
  {
   "cell_type": "markdown",
   "metadata": {},
   "source": [
    "### Sklearn\n",
    "Sklearn, or scikit-learn, is a very popular, lightweight and easy to use library for machine learning.\n",
    "It allows you to train models using a few lines of code but still is flexible for extension, varying algorithms, metrics, loss-functions and other hyper parameters.\n",
    "\n",
    "We will train a logistic regression model for the same data set as above."
   ]
  },
  {
   "cell_type": "code",
   "execution_count": 16,
   "metadata": {},
   "outputs": [],
   "source": [
    "from sklearn.linear_model import LogisticRegression"
   ]
  },
  {
   "cell_type": "code",
   "execution_count": 17,
   "metadata": {},
   "outputs": [],
   "source": [
    "reg = LogisticRegression()"
   ]
  },
  {
   "cell_type": "markdown",
   "metadata": {},
   "source": [
    "ML algorithms, or Inducers, in sklearn have few but important methods. Take a look at the help for 'fit' and 'predict'. Also if you type reg.<tab\\> you will see what methods are supported."
   ]
  },
  {
   "cell_type": "code",
   "execution_count": null,
   "metadata": {
    "scrolled": true
   },
   "outputs": [],
   "source": []
  },
  {
   "cell_type": "markdown",
   "metadata": {},
   "source": [
    "### Exercise\n",
    "- Fit the logistic regression model to data"
   ]
  },
  {
   "cell_type": "code",
   "execution_count": 18,
   "metadata": {
    "scrolled": false
   },
   "outputs": [
    {
     "data": {
      "text/plain": [
       "LogisticRegression(C=1.0, class_weight=None, dual=False, fit_intercept=True,\n",
       "          intercept_scaling=1, max_iter=100, multi_class='ovr', n_jobs=1,\n",
       "          penalty='l2', random_state=None, solver='liblinear', tol=0.0001,\n",
       "          verbose=0, warm_start=False)"
      ]
     },
     "execution_count": 18,
     "metadata": {},
     "output_type": "execute_result"
    }
   ],
   "source": [
    "reg.fit(data[:,:-1], data[:,-1])"
   ]
  },
  {
   "cell_type": "markdown",
   "metadata": {},
   "source": [
    "We can see all the values of hyperparameters used above. We can also programatically access them:"
   ]
  },
  {
   "cell_type": "code",
   "execution_count": 19,
   "metadata": {
    "scrolled": false
   },
   "outputs": [
    {
     "data": {
      "text/plain": [
       "{'C': 1.0,\n",
       " 'class_weight': None,\n",
       " 'dual': False,\n",
       " 'fit_intercept': True,\n",
       " 'intercept_scaling': 1,\n",
       " 'max_iter': 100,\n",
       " 'multi_class': 'ovr',\n",
       " 'n_jobs': 1,\n",
       " 'penalty': 'l2',\n",
       " 'random_state': None,\n",
       " 'solver': 'liblinear',\n",
       " 'tol': 0.0001,\n",
       " 'verbose': 0,\n",
       " 'warm_start': False}"
      ]
     },
     "execution_count": 19,
     "metadata": {},
     "output_type": "execute_result"
    }
   ],
   "source": [
    "reg.get_params()"
   ]
  },
  {
   "cell_type": "markdown",
   "metadata": {},
   "source": [
    "The weights can be accessed like so:"
   ]
  },
  {
   "cell_type": "code",
   "execution_count": 20,
   "metadata": {},
   "outputs": [
    {
     "data": {
      "text/plain": [
       "(1.5256321880244403, -1.6464493913983052, -5.5637306907409005)"
      ]
     },
     "execution_count": 20,
     "metadata": {},
     "output_type": "execute_result"
    }
   ],
   "source": [
    "a,b = reg.coef_[0]\n",
    "c = reg.intercept_[0]\n",
    "(a,b,c)"
   ]
  },
  {
   "cell_type": "markdown",
   "metadata": {},
   "source": [
    "### Plot\n",
    "We use the same code as above to plot the logistic regression decision boundary."
   ]
  },
  {
   "cell_type": "code",
   "execution_count": 22,
   "metadata": {
    "scrolled": true
   },
   "outputs": [
    {
     "data": {
      "text/plain": [
       "[<matplotlib.lines.Line2D at 0x7f1f3d4be278>]"
      ]
     },
     "execution_count": 22,
     "metadata": {},
     "output_type": "execute_result"
    },
    {
     "data": {
      "image/png": "[encoded data removed]",
      "text/plain": [
       "<Figure size 432x288 with 1 Axes>"
      ]
     },
     "metadata": {},
     "output_type": "display_data"
    }
   ],
   "source": [
    "plt.scatter(twoD2[:,0], twoD2[:,1], c='pink')\n",
    "plt.scatter(twoD[:,0], twoD[:,1], c='gray')\n",
    "ticks = [-4 + 0.16*t for t in range(100)]\n",
    "boundary_y = [-(a*x + c)/b for x in ticks]\n",
    "boundary_y = [b if b < 15 else 15 for b in boundary_y]\n",
    "boundary_y = [b if b > -15 else -15 for b in boundary_y]\n",
    "plt.plot(ticks, boundary_y)\n"
   ]
  },
  {
   "cell_type": "markdown",
   "metadata": {},
   "source": [
    "### Exercise\n",
    "- Get the model's predictions for the entire data set.\n",
    "- Compute the accuracy of the classifier on the training set."
   ]
  },
  {
   "cell_type": "code",
   "execution_count": 23,
   "metadata": {},
   "outputs": [],
   "source": [
    "pred = reg.predict(data[:,:-1])"
   ]
  },
  {
   "cell_type": "code",
   "execution_count": 24,
   "metadata": {},
   "outputs": [
    {
     "data": {
      "text/plain": [
       "0.989"
      ]
     },
     "execution_count": 24,
     "metadata": {},
     "output_type": "execute_result"
    }
   ],
   "source": [
    "(pred == data[:,-1]).sum()/2000"
   ]
  },
  {
   "cell_type": "markdown",
   "metadata": {},
   "source": [
    "### Exercise\n",
    "- Perform 5-fold cross validation with logistic regression by using cross_val_score.\n",
    "- The evaluation metric is accuracy.\n",
    "- Only 1 line of code!"
   ]
  },
  {
   "cell_type": "code",
   "execution_count": 25,
   "metadata": {},
   "outputs": [],
   "source": [
    "from sklearn.model_selection import cross_val_score"
   ]
  },
  {
   "cell_type": "code",
   "execution_count": 26,
   "metadata": {},
   "outputs": [
    {
     "data": {
      "text/plain": [
       "array([0.9875, 0.995 , 0.995 , 0.985 , 0.9775])"
      ]
     },
     "execution_count": 26,
     "metadata": {},
     "output_type": "execute_result"
    }
   ],
   "source": [
    "reg = LogisticRegression()\n",
    "cross_val_score(reg, data[:,:-1], data[:,-1], scoring='accuracy', cv=5)"
   ]
  },
  {
   "cell_type": "markdown",
   "metadata": {},
   "source": [
    "For other metrics see http://scikit-learn.org/stable/modules/model_evaluation.html#scoring-parameter"
   ]
  },
  {
   "cell_type": "markdown",
   "metadata": {},
   "source": [
    "## Learning Curve"
   ]
  },
  {
   "cell_type": "code",
   "execution_count": 27,
   "metadata": {},
   "outputs": [],
   "source": [
    "from sklearn.model_selection import learning_curve"
   ]
  },
  {
   "cell_type": "markdown",
   "metadata": {},
   "source": [
    "### Exercise\n",
    "- Retrain the logistic regression model above but use sklearn's validation_curve method to get training and validation scores over training iterations. Specify train_sizes=np.linspace(0.1, 1.0, 200) and use 5 fold cross validation.\n",
    "- Average the output scores over folds.\n",
    "- Plot train scores and test scores in the same plot.\n",
    "- Repeat the above for \"neg_log_loss\" instead of accuracy."
   ]
  },
  {
   "cell_type": "code",
   "execution_count": 28,
   "metadata": {},
   "outputs": [],
   "source": [
    "sizes, train_scores, test_scores = learning_curve(LogisticRegression(), data[:,:-1], data[:,-1], cv=5, scoring='accuracy', train_sizes=np.linspace(0.1,1.0,200))"
   ]
  },
  {
   "cell_type": "code",
   "execution_count": 29,
   "metadata": {},
   "outputs": [
    {
     "data": {
      "text/plain": [
       "<matplotlib.legend.Legend at 0x7f1f3d468390>"
      ]
     },
     "execution_count": 29,
     "metadata": {},
     "output_type": "execute_result"
    },
    {
     "data": {
      "image/png": "[encoded data removed]",
      "text/plain": [
       "<Figure size 432x288 with 1 Axes>"
      ]
     },
     "metadata": {},
     "output_type": "display_data"
    }
   ],
   "source": [
    "train_scores_mean = train_scores.mean(axis=1)\n",
    "test_scores_mean = test_scores.mean(axis=1)\n",
    "\n",
    "plt.plot(sizes, train_scores_mean, c='red', label='train')\n",
    "plt.plot(sizes, test_scores_mean, c='blue', label='test')\n",
    "plt.legend()"
   ]
  },
  {
   "cell_type": "code",
   "execution_count": 30,
   "metadata": {},
   "outputs": [],
   "source": [
    "sizes, train_scores, test_scores = learning_curve(LogisticRegression(), data[:,:-1], data[:,-1], cv=5, scoring='neg_log_loss', train_sizes=np.linspace(0.1,1.0,200))"
   ]
  },
  {
   "cell_type": "code",
   "execution_count": 31,
   "metadata": {
    "scrolled": true
   },
   "outputs": [
    {
     "data": {
      "text/plain": [
       "<matplotlib.legend.Legend at 0x7f1f3d430710>"
      ]
     },
     "execution_count": 31,
     "metadata": {},
     "output_type": "execute_result"
    },
    {
     "data": {
      "image/png": "[encoded data removed]",
      "text/plain": [
       "<Figure size 432x288 with 1 Axes>"
      ]
     },
     "metadata": {},
     "output_type": "display_data"
    }
   ],
   "source": [
    "train_scores_mean = train_scores.mean(axis=1)\n",
    "test_scores_mean = test_scores.mean(axis=1)\n",
    "\n",
    "plt.plot(sizes, -train_scores_mean, c='red', label='train')\n",
    "plt.plot(sizes, -test_scores_mean, c='blue', label='test')\n",
    "plt.legend()"
   ]
  },
  {
   "cell_type": "markdown",
   "metadata": {},
   "source": [
    "## Validation Curve"
   ]
  },
  {
   "cell_type": "code",
   "execution_count": 32,
   "metadata": {},
   "outputs": [],
   "source": [
    "from sklearn.datasets import load_digits\n",
    "from sklearn.model_selection import validation_curve"
   ]
  },
  {
   "cell_type": "markdown",
   "metadata": {},
   "source": [
    "### Exercise\n",
    "- Use np.logspace to create a list of values _params_ $=10^{-4},10^{-3},10^{-2},10^{-1},10^{0},10^{1}$.\n",
    "- Use validation_curve to train a logistic regression model on 'digits' data. The parameter C should take on the values above. Use 5-fold crossvalidation and negative log loss. However when plotting use plt.semilogx instead of plt.plot.\n",
    "- Take averages over folds and plot average train loss and average validation loss vs _params_."
   ]
  },
  {
   "cell_type": "code",
   "execution_count": 33,
   "metadata": {},
   "outputs": [
    {
     "data": {
      "text/plain": [
       "<matplotlib.legend.Legend at 0x7f1f3d1594a8>"
      ]
     },
     "execution_count": 33,
     "metadata": {},
     "output_type": "execute_result"
    },
    {
     "data": {
      "image/png": "[encoded data removed]",
      "text/plain": [
       "<Figure size 432x288 with 1 Axes>"
      ]
     },
     "metadata": {},
     "output_type": "display_data"
    }
   ],
   "source": [
    "# loads hand written character image data\n",
    "digits = load_digits()\n",
    "X, y = digits.data, digits.target\n",
    "\n",
    "params = np.logspace(-4,1,6)\n",
    "train_scores, valid_scores = validation_curve(reg, X, y, 'C', params, cv=5,scoring='neg_log_loss')\n",
    "\n",
    "train_scores_mean = train_scores.mean(axis=1)\n",
    "valid_scores_mean = valid_scores.mean(axis=1)\n",
    "assert train_scores_mean.shape == (6,)\n",
    "assert valid_scores_mean.shape == (6,)\n",
    "\n",
    "plt.semilogx(params, -train_scores_mean, c='red', label='train')\n",
    "plt.semilogx(params, -valid_scores_mean, c='blue', label='validation')\n",
    "plt.legend()"
   ]
  },
  {
   "cell_type": "markdown",
   "metadata": {},
   "source": [
    "### Manually setting parameters"
   ]
  },
  {
   "cell_type": "code",
   "execution_count": 34,
   "metadata": {
    "scrolled": false
   },
   "outputs": [
    {
     "data": {
      "text/plain": [
       "LogisticRegression(C=1.0, class_weight=None, dual=False, fit_intercept=True,\n",
       "          intercept_scaling=1, max_iter=100, multi_class='ovr', n_jobs=1,\n",
       "          penalty='l1', random_state=None, solver='liblinear', tol=0.0001,\n",
       "          verbose=0, warm_start=False)"
      ]
     },
     "execution_count": 34,
     "metadata": {},
     "output_type": "execute_result"
    }
   ],
   "source": [
    "reg.set_params(penalty='l1')"
   ]
  },
  {
   "cell_type": "markdown",
   "metadata": {},
   "source": [
    "### Retrain\n",
    "Now rerun your cell above and check the resulting graph."
   ]
  },
  {
   "cell_type": "markdown",
   "metadata": {},
   "source": [
    "## Gridsearch"
   ]
  },
  {
   "cell_type": "code",
   "execution_count": 35,
   "metadata": {},
   "outputs": [],
   "source": [
    "from sklearn.model_selection import GridSearchCV"
   ]
  },
  {
   "cell_type": "code",
   "execution_count": 36,
   "metadata": {},
   "outputs": [
    {
     "name": "stdout",
     "output_type": "stream",
     "text": [
      "Help on class GridSearchCV in module sklearn.model_selection._search:\n",
      "\n",
      "class GridSearchCV(BaseSearchCV)\n",
      " |  Exhaustive search over specified parameter values for an estimator.\n",
      " |  \n",
      " |  Important members are fit, predict.\n",
      " |  \n",
      " |  GridSearchCV implements a \"fit\" and a \"score\" method.\n",
      " |  It also implements \"predict\", \"predict_proba\", \"decision_function\",\n",
      " |  \"transform\" and \"inverse_transform\" if they are implemented in the\n",
      " |  estimator used.\n",
      " |  \n",
      " |  The parameters of the estimator used to apply these methods are optimized\n",
      " |  by cross-validated grid-search over a parameter grid.\n",
      " |  \n",
      " |  Read more in the :ref:`User Guide <grid_search>`.\n",
      " |  \n",
      " |  Parameters\n",
      " |  ----------\n",
      " |  estimator : estimator object.\n",
      " |      This is assumed to implement the scikit-learn estimator interface.\n",
      " |      Either estimator needs to provide a ``score`` function,\n",
      " |      or ``scoring`` must be passed.\n",
      " |  \n",
      " |  param_grid : dict or list of dictionaries\n",
      " |      Dictionary with parameters names (string) as keys and lists of\n",
      " |      parameter settings to try as values, or a list of such\n",
      " |      dictionaries, in which case the grids spanned by each dictionary\n",
      " |      in the list are explored. This enables searching over any sequence\n",
      " |      of parameter settings.\n",
      " |  \n",
      " |  scoring : string, callable, list/tuple, dict or None, default: None\n",
      " |      A single string (see :ref:`scoring_parameter`) or a callable\n",
      " |      (see :ref:`scoring`) to evaluate the predictions on the test set.\n",
      " |  \n",
      " |      For evaluating multiple metrics, either give a list of (unique) strings\n",
      " |      or a dict with names as keys and callables as values.\n",
      " |  \n",
      " |      NOTE that when using custom scorers, each scorer should return a single\n",
      " |      value. Metric functions returning a list/array of values can be wrapped\n",
      " |      into multiple scorers that return one value each.\n",
      " |  \n",
      " |      See :ref:`multimetric_grid_search` for an example.\n",
      " |  \n",
      " |      If None, the estimator's default scorer (if available) is used.\n",
      " |  \n",
      " |  fit_params : dict, optional\n",
      " |      Parameters to pass to the fit method.\n",
      " |  \n",
      " |      .. deprecated:: 0.19\n",
      " |         ``fit_params`` as a constructor argument was deprecated in version\n",
      " |         0.19 and will be removed in version 0.21. Pass fit parameters to\n",
      " |         the ``fit`` method instead.\n",
      " |  \n",
      " |  n_jobs : int, default=1\n",
      " |      Number of jobs to run in parallel.\n",
      " |  \n",
      " |  pre_dispatch : int, or string, optional\n",
      " |      Controls the number of jobs that get dispatched during parallel\n",
      " |      execution. Reducing this number can be useful to avoid an\n",
      " |      explosion of memory consumption when more jobs get dispatched\n",
      " |      than CPUs can process. This parameter can be:\n",
      " |  \n",
      " |          - None, in which case all the jobs are immediately\n",
      " |            created and spawned. Use this for lightweight and\n",
      " |            fast-running jobs, to avoid delays due to on-demand\n",
      " |            spawning of the jobs\n",
      " |  \n",
      " |          - An int, giving the exact number of total jobs that are\n",
      " |            spawned\n",
      " |  \n",
      " |          - A string, giving an expression as a function of n_jobs,\n",
      " |            as in '2*n_jobs'\n",
      " |  \n",
      " |  iid : boolean, default=True\n",
      " |      If True, the data is assumed to be identically distributed across\n",
      " |      the folds, and the loss minimized is the total loss per sample,\n",
      " |      and not the mean loss across the folds.\n",
      " |  \n",
      " |  cv : int, cross-validation generator or an iterable, optional\n",
      " |      Determines the cross-validation splitting strategy.\n",
      " |      Possible inputs for cv are:\n",
      " |        - None, to use the default 3-fold cross validation,\n",
      " |        - integer, to specify the number of folds in a `(Stratified)KFold`,\n",
      " |        - An object to be used as a cross-validation generator.\n",
      " |        - An iterable yielding train, test splits.\n",
      " |  \n",
      " |      For integer/None inputs, if the estimator is a classifier and ``y`` is\n",
      " |      either binary or multiclass, :class:`StratifiedKFold` is used. In all\n",
      " |      other cases, :class:`KFold` is used.\n",
      " |  \n",
      " |      Refer :ref:`User Guide <cross_validation>` for the various\n",
      " |      cross-validation strategies that can be used here.\n",
      " |  \n",
      " |  refit : boolean, or string, default=True\n",
      " |      Refit an estimator using the best found parameters on the whole\n",
      " |      dataset.\n",
      " |  \n",
      " |      For multiple metric evaluation, this needs to be a string denoting the\n",
      " |      scorer is used to find the best parameters for refitting the estimator\n",
      " |      at the end.\n",
      " |  \n",
      " |      The refitted estimator is made available at the ``best_estimator_``\n",
      " |      attribute and permits using ``predict`` directly on this\n",
      " |      ``GridSearchCV`` instance.\n",
      " |  \n",
      " |      Also for multiple metric evaluation, the attributes ``best_index_``,\n",
      " |      ``best_score_`` and ``best_parameters_`` will only be available if\n",
      " |      ``refit`` is set and all of them will be determined w.r.t this specific\n",
      " |      scorer.\n",
      " |  \n",
      " |      See ``scoring`` parameter to know more about multiple metric\n",
      " |      evaluation.\n",
      " |  \n",
      " |  verbose : integer\n",
      " |      Controls the verbosity: the higher, the more messages.\n",
      " |  \n",
      " |  error_score : 'raise' (default) or numeric\n",
      " |      Value to assign to the score if an error occurs in estimator fitting.\n",
      " |      If set to 'raise', the error is raised. If a numeric value is given,\n",
      " |      FitFailedWarning is raised. This parameter does not affect the refit\n",
      " |      step, which will always raise the error.\n",
      " |  \n",
      " |  return_train_score : boolean, optional\n",
      " |      If ``False``, the ``cv_results_`` attribute will not include training\n",
      " |      scores.\n",
      " |  \n",
      " |      Current default is ``'warn'``, which behaves as ``True`` in addition\n",
      " |      to raising a warning when a training score is looked up.\n",
      " |      That default will be changed to ``False`` in 0.21.\n",
      " |      Computing training scores is used to get insights on how different\n",
      " |      parameter settings impact the overfitting/underfitting trade-off.\n",
      " |      However computing the scores on the training set can be computationally\n",
      " |      expensive and is not strictly required to select the parameters that\n",
      " |      yield the best generalization performance.\n",
      " |  \n",
      " |  \n",
      " |  Examples\n",
      " |  --------\n",
      " |  >>> from sklearn import svm, datasets\n",
      " |  >>> from sklearn.model_selection import GridSearchCV\n",
      " |  >>> iris = datasets.load_iris()\n",
      " |  >>> parameters = {'kernel':('linear', 'rbf'), 'C':[1, 10]}\n",
      " |  >>> svc = svm.SVC()\n",
      " |  >>> clf = GridSearchCV(svc, parameters)\n",
      " |  >>> clf.fit(iris.data, iris.target)\n",
      " |  ...                             # doctest: +NORMALIZE_WHITESPACE +ELLIPSIS\n",
      " |  GridSearchCV(cv=None, error_score=...,\n",
      " |         estimator=SVC(C=1.0, cache_size=..., class_weight=..., coef0=...,\n",
      " |                       decision_function_shape='ovr', degree=..., gamma=...,\n",
      " |                       kernel='rbf', max_iter=-1, probability=False,\n",
      " |                       random_state=None, shrinking=True, tol=...,\n",
      " |                       verbose=False),\n",
      " |         fit_params=None, iid=..., n_jobs=1,\n",
      " |         param_grid=..., pre_dispatch=..., refit=..., return_train_score=...,\n",
      " |         scoring=..., verbose=...)\n",
      " |  >>> sorted(clf.cv_results_.keys())\n",
      " |  ...                             # doctest: +NORMALIZE_WHITESPACE +ELLIPSIS\n",
      " |  ['mean_fit_time', 'mean_score_time', 'mean_test_score',...\n",
      " |   'mean_train_score', 'param_C', 'param_kernel', 'params',...\n",
      " |   'rank_test_score', 'split0_test_score',...\n",
      " |   'split0_train_score', 'split1_test_score', 'split1_train_score',...\n",
      " |   'split2_test_score', 'split2_train_score',...\n",
      " |   'std_fit_time', 'std_score_time', 'std_test_score', 'std_train_score'...]\n",
      " |  \n",
      " |  Attributes\n",
      " |  ----------\n",
      " |  cv_results_ : dict of numpy (masked) ndarrays\n",
      " |      A dict with keys as column headers and values as columns, that can be\n",
      " |      imported into a pandas ``DataFrame``.\n",
      " |  \n",
      " |      For instance the below given table\n",
      " |  \n",
      " |      +------------+-----------+------------+-----------------+---+---------+\n",
      " |      |param_kernel|param_gamma|param_degree|split0_test_score|...|rank_t...|\n",
      " |      +============+===========+============+=================+===+=========+\n",
      " |      |  'poly'    |     --    |      2     |        0.8      |...|    2    |\n",
      " |      +------------+-----------+------------+-----------------+---+---------+\n",
      " |      |  'poly'    |     --    |      3     |        0.7      |...|    4    |\n",
      " |      +------------+-----------+------------+-----------------+---+---------+\n",
      " |      |  'rbf'     |     0.1   |     --     |        0.8      |...|    3    |\n",
      " |      +------------+-----------+------------+-----------------+---+---------+\n",
      " |      |  'rbf'     |     0.2   |     --     |        0.9      |...|    1    |\n",
      " |      +------------+-----------+------------+-----------------+---+---------+\n",
      " |  \n",
      " |      will be represented by a ``cv_results_`` dict of::\n",
      " |  \n",
      " |          {\n",
      " |          'param_kernel': masked_array(data = ['poly', 'poly', 'rbf', 'rbf'],\n",
      " |                                       mask = [False False False False]...)\n",
      " |          'param_gamma': masked_array(data = [-- -- 0.1 0.2],\n",
      " |                                      mask = [ True  True False False]...),\n",
      " |          'param_degree': masked_array(data = [2.0 3.0 -- --],\n",
      " |                                       mask = [False False  True  True]...),\n",
      " |          'split0_test_score'  : [0.8, 0.7, 0.8, 0.9],\n",
      " |          'split1_test_score'  : [0.82, 0.5, 0.7, 0.78],\n",
      " |          'mean_test_score'    : [0.81, 0.60, 0.75, 0.82],\n",
      " |          'std_test_score'     : [0.02, 0.01, 0.03, 0.03],\n",
      " |          'rank_test_score'    : [2, 4, 3, 1],\n",
      " |          'split0_train_score' : [0.8, 0.9, 0.7],\n",
      " |          'split1_train_score' : [0.82, 0.5, 0.7],\n",
      " |          'mean_train_score'   : [0.81, 0.7, 0.7],\n",
      " |          'std_train_score'    : [0.03, 0.03, 0.04],\n",
      " |          'mean_fit_time'      : [0.73, 0.63, 0.43, 0.49],\n",
      " |          'std_fit_time'       : [0.01, 0.02, 0.01, 0.01],\n",
      " |          'mean_score_time'    : [0.007, 0.06, 0.04, 0.04],\n",
      " |          'std_score_time'     : [0.001, 0.002, 0.003, 0.005],\n",
      " |          'params'             : [{'kernel': 'poly', 'degree': 2}, ...],\n",
      " |          }\n",
      " |  \n",
      " |      NOTE\n",
      " |  \n",
      " |      The key ``'params'`` is used to store a list of parameter\n",
      " |      settings dicts for all the parameter candidates.\n",
      " |  \n",
      " |      The ``mean_fit_time``, ``std_fit_time``, ``mean_score_time`` and\n",
      " |      ``std_score_time`` are all in seconds.\n",
      " |  \n",
      " |      For multi-metric evaluation, the scores for all the scorers are\n",
      " |      available in the ``cv_results_`` dict at the keys ending with that\n",
      " |      scorer's name (``'_<scorer_name>'``) instead of ``'_score'`` shown\n",
      " |      above. ('split0_test_precision', 'mean_train_precision' etc.)\n",
      " |  \n",
      " |  best_estimator_ : estimator or dict\n",
      " |      Estimator that was chosen by the search, i.e. estimator\n",
      " |      which gave highest score (or smallest loss if specified)\n",
      " |      on the left out data. Not available if ``refit=False``.\n",
      " |  \n",
      " |      See ``refit`` parameter for more information on allowed values.\n",
      " |  \n",
      " |  best_score_ : float\n",
      " |      Mean cross-validated score of the best_estimator\n",
      " |  \n",
      " |      For multi-metric evaluation, this is present only if ``refit`` is\n",
      " |      specified.\n",
      " |  \n",
      " |  best_params_ : dict\n",
      " |      Parameter setting that gave the best results on the hold out data.\n",
      " |  \n",
      " |      For multi-metric evaluation, this is present only if ``refit`` is\n",
      " |      specified.\n",
      " |  \n",
      " |  best_index_ : int\n",
      " |      The index (of the ``cv_results_`` arrays) which corresponds to the best\n",
      " |      candidate parameter setting.\n",
      " |  \n",
      " |      The dict at ``search.cv_results_['params'][search.best_index_]`` gives\n",
      " |      the parameter setting for the best model, that gives the highest\n",
      " |      mean score (``search.best_score_``).\n",
      " |  \n",
      " |      For multi-metric evaluation, this is present only if ``refit`` is\n",
      " |      specified.\n",
      " |  \n",
      " |  scorer_ : function or a dict\n",
      " |      Scorer function used on the held out data to choose the best\n",
      " |      parameters for the model.\n",
      " |  \n",
      " |      For multi-metric evaluation, this attribute holds the validated\n",
      " |      ``scoring`` dict which maps the scorer key to the scorer callable.\n",
      " |  \n",
      " |  n_splits_ : int\n",
      " |      The number of cross-validation splits (folds/iterations).\n",
      " |  \n",
      " |  Notes\n",
      " |  ------\n",
      " |  The parameters selected are those that maximize the score of the left out\n",
      " |  data, unless an explicit score is passed in which case it is used instead.\n",
      " |  \n",
      " |  If `n_jobs` was set to a value higher than one, the data is copied for each\n",
      " |  point in the grid (and not `n_jobs` times). This is done for efficiency\n",
      " |  reasons if individual jobs take very little time, but may raise errors if\n",
      " |  the dataset is large and not enough memory is available.  A workaround in\n",
      " |  this case is to set `pre_dispatch`. Then, the memory is copied only\n",
      " |  `pre_dispatch` many times. A reasonable value for `pre_dispatch` is `2 *\n",
      " |  n_jobs`.\n",
      " |  \n",
      " |  See Also\n",
      " |  ---------\n",
      " |  :class:`ParameterGrid`:\n",
      " |      generates all the combinations of a hyperparameter grid.\n",
      " |  \n",
      " |  :func:`sklearn.model_selection.train_test_split`:\n",
      " |      utility function to split the data into a development set usable\n",
      " |      for fitting a GridSearchCV instance and an evaluation set for\n",
      " |      its final evaluation.\n",
      " |  \n",
      " |  :func:`sklearn.metrics.make_scorer`:\n",
      " |      Make a scorer from a performance metric or loss function.\n",
      " |  \n",
      " |  Method resolution order:\n",
      " |      GridSearchCV\n",
      " |      BaseSearchCV\n",
      " |      abc.NewBase\n",
      " |      sklearn.base.BaseEstimator\n",
      " |      sklearn.base.MetaEstimatorMixin\n",
      " |      builtins.object\n",
      " |  \n",
      " |  Methods defined here:\n",
      " |  \n",
      " |  __init__(self, estimator, param_grid, scoring=None, fit_params=None, n_jobs=1, iid=True, refit=True, cv=None, verbose=0, pre_dispatch='2*n_jobs', error_score='raise', return_train_score='warn')\n",
      " |      Initialize self.  See help(type(self)) for accurate signature.\n",
      " |  \n",
      " |  ----------------------------------------------------------------------\n",
      " |  Data and other attributes defined here:\n",
      " |  \n",
      " |  __abstractmethods__ = frozenset()\n",
      " |  \n",
      " |  ----------------------------------------------------------------------\n",
      " |  Methods inherited from BaseSearchCV:\n",
      " |  \n",
      " |  decision_function(self, X)\n",
      " |      Call decision_function on the estimator with the best found parameters.\n",
      " |      \n",
      " |      Only available if ``refit=True`` and the underlying estimator supports\n",
      " |      ``decision_function``.\n",
      " |      \n",
      " |      Parameters\n",
      " |      -----------\n",
      " |      X : indexable, length n_samples\n",
      " |          Must fulfill the input assumptions of the\n",
      " |          underlying estimator.\n",
      " |  \n",
      " |  fit(self, X, y=None, groups=None, **fit_params)\n",
      " |      Run fit with all sets of parameters.\n",
      " |      \n",
      " |      Parameters\n",
      " |      ----------\n",
      " |      \n",
      " |      X : array-like, shape = [n_samples, n_features]\n",
      " |          Training vector, where n_samples is the number of samples and\n",
      " |          n_features is the number of features.\n",
      " |      \n",
      " |      y : array-like, shape = [n_samples] or [n_samples, n_output], optional\n",
      " |          Target relative to X for classification or regression;\n",
      " |          None for unsupervised learning.\n",
      " |      \n",
      " |      groups : array-like, with shape (n_samples,), optional\n",
      " |          Group labels for the samples used while splitting the dataset into\n",
      " |          train/test set.\n",
      " |      \n",
      " |      **fit_params : dict of string -> object\n",
      " |          Parameters passed to the ``fit`` method of the estimator\n",
      " |  \n",
      " |  inverse_transform(self, Xt)\n",
      " |      Call inverse_transform on the estimator with the best found params.\n",
      " |      \n",
      " |      Only available if the underlying estimator implements\n",
      " |      ``inverse_transform`` and ``refit=True``.\n",
      " |      \n",
      " |      Parameters\n",
      " |      -----------\n",
      " |      Xt : indexable, length n_samples\n",
      " |          Must fulfill the input assumptions of the\n",
      " |          underlying estimator.\n",
      " |  \n",
      " |  predict(self, X)\n",
      " |      Call predict on the estimator with the best found parameters.\n",
      " |      \n",
      " |      Only available if ``refit=True`` and the underlying estimator supports\n",
      " |      ``predict``.\n",
      " |      \n",
      " |      Parameters\n",
      " |      -----------\n",
      " |      X : indexable, length n_samples\n",
      " |          Must fulfill the input assumptions of the\n",
      " |          underlying estimator.\n",
      " |  \n",
      " |  predict_log_proba(self, X)\n",
      " |      Call predict_log_proba on the estimator with the best found parameters.\n",
      " |      \n",
      " |      Only available if ``refit=True`` and the underlying estimator supports\n",
      " |      ``predict_log_proba``.\n",
      " |      \n",
      " |      Parameters\n",
      " |      -----------\n",
      " |      X : indexable, length n_samples\n",
      " |          Must fulfill the input assumptions of the\n",
      " |          underlying estimator.\n",
      " |  \n",
      " |  predict_proba(self, X)\n",
      " |      Call predict_proba on the estimator with the best found parameters.\n",
      " |      \n",
      " |      Only available if ``refit=True`` and the underlying estimator supports\n",
      " |      ``predict_proba``.\n",
      " |      \n",
      " |      Parameters\n",
      " |      -----------\n",
      " |      X : indexable, length n_samples\n",
      " |          Must fulfill the input assumptions of the\n",
      " |          underlying estimator.\n",
      " |  \n",
      " |  score(self, X, y=None)\n",
      " |      Returns the score on the given data, if the estimator has been refit.\n",
      " |      \n",
      " |      This uses the score defined by ``scoring`` where provided, and the\n",
      " |      ``best_estimator_.score`` method otherwise.\n",
      " |      \n",
      " |      Parameters\n",
      " |      ----------\n",
      " |      X : array-like, shape = [n_samples, n_features]\n",
      " |          Input data, where n_samples is the number of samples and\n",
      " |          n_features is the number of features.\n",
      " |      \n",
      " |      y : array-like, shape = [n_samples] or [n_samples, n_output], optional\n",
      " |          Target relative to X for classification or regression;\n",
      " |          None for unsupervised learning.\n",
      " |      \n",
      " |      Returns\n",
      " |      -------\n",
      " |      score : float\n",
      " |  \n",
      " |  transform(self, X)\n",
      " |      Call transform on the estimator with the best found parameters.\n",
      " |      \n",
      " |      Only available if the underlying estimator supports ``transform`` and\n",
      " |      ``refit=True``.\n",
      " |      \n",
      " |      Parameters\n",
      " |      -----------\n",
      " |      X : indexable, length n_samples\n",
      " |          Must fulfill the input assumptions of the\n",
      " |          underlying estimator.\n",
      " |  \n",
      " |  ----------------------------------------------------------------------\n",
      " |  Data descriptors inherited from BaseSearchCV:\n",
      " |  \n",
      " |  classes_\n",
      " |  \n",
      " |  grid_scores_\n",
      " |  \n",
      " |  ----------------------------------------------------------------------\n",
      " |  Methods inherited from sklearn.base.BaseEstimator:\n",
      " |  \n",
      " |  __getstate__(self)\n",
      " |  \n",
      " |  __repr__(self)\n",
      " |      Return repr(self).\n",
      " |  \n",
      " |  __setstate__(self, state)\n",
      " |  \n",
      " |  get_params(self, deep=True)\n",
      " |      Get parameters for this estimator.\n",
      " |      \n",
      " |      Parameters\n",
      " |      ----------\n",
      " |      deep : boolean, optional\n",
      " |          If True, will return the parameters for this estimator and\n",
      " |          contained subobjects that are estimators.\n",
      " |      \n",
      " |      Returns\n",
      " |      -------\n",
      " |      params : mapping of string to any\n",
      " |          Parameter names mapped to their values.\n",
      " |  \n",
      " |  set_params(self, **params)\n",
      " |      Set the parameters of this estimator.\n",
      " |      \n",
      " |      The method works on simple estimators as well as on nested objects\n",
      " |      (such as pipelines). The latter have parameters of the form\n",
      " |      ``<component>__<parameter>`` so that it's possible to update each\n",
      " |      component of a nested object.\n",
      " |      \n",
      " |      Returns\n",
      " |      -------\n",
      " |      self\n",
      " |  \n",
      " |  ----------------------------------------------------------------------\n",
      " |  Data descriptors inherited from sklearn.base.BaseEstimator:\n",
      " |  \n",
      " |  __dict__\n",
      " |      dictionary for instance variables (if defined)\n",
      " |  \n",
      " |  __weakref__\n",
      " |      list of weak references to the object (if defined)\n",
      "\n"
     ]
    }
   ],
   "source": [
    "help(GridSearchCV)"
   ]
  },
  {
   "cell_type": "markdown",
   "metadata": {},
   "source": [
    "### Exercise\n",
    "- Read the help on GridSearchCV.\n",
    "- Set parameters correctly so that\n",
    "    - when _kernel_ is 'poly' then _degree_ takes the values 1,2 and 3\n",
    "    - when _kernel_ is 'rbf', then _C_ takes values 1 and 10\n",
    "    - when _kernel_ is 'linear', then _C_ and _gamma_ take on all combinations of \\[1,10\\] and \\[0.1,1\\].\n",
    "- Run the cell to fit a lot of models to iris data or digits data!\n",
    "- Study the result."
   ]
  },
  {
   "cell_type": "code",
   "execution_count": 37,
   "metadata": {
    "scrolled": true
   },
   "outputs": [
    {
     "data": {
      "text/html": [
       "<div>\n",
       "<style scoped>\n",
       "    .dataframe tbody tr th:only-of-type {\n",
       "        vertical-align: middle;\n",
       "    }\n",
       "\n",
       "    .dataframe tbody tr th {\n",
       "        vertical-align: top;\n",
       "    }\n",
       "\n",
       "    .dataframe thead th {\n",
       "        text-align: right;\n",
       "    }\n",
       "</style>\n",
       "<table border=\"1\" class=\"dataframe\">\n",
       "  <thead>\n",
       "    <tr style=\"text-align: right;\">\n",
       "      <th></th>\n",
       "      <th>mean_fit_time</th>\n",
       "      <th>std_fit_time</th>\n",
       "      <th>mean_score_time</th>\n",
       "      <th>std_score_time</th>\n",
       "      <th>param_degree</th>\n",
       "      <th>param_kernel</th>\n",
       "      <th>param_C</th>\n",
       "      <th>param_gamma</th>\n",
       "      <th>params</th>\n",
       "      <th>mean_test_score</th>\n",
       "      <th>std_test_score</th>\n",
       "      <th>rank_test_score</th>\n",
       "      <th>mean_train_score</th>\n",
       "      <th>std_train_score</th>\n",
       "    </tr>\n",
       "  </thead>\n",
       "  <tbody>\n",
       "    <tr>\n",
       "      <th>0</th>\n",
       "      <td>0.000303</td>\n",
       "      <td>0.000034</td>\n",
       "      <td>0.000142</td>\n",
       "      <td>9.476231e-06</td>\n",
       "      <td>1</td>\n",
       "      <td>poly</td>\n",
       "      <td>NaN</td>\n",
       "      <td>NaN</td>\n",
       "      <td>{'degree': 1, 'kernel': 'poly'}</td>\n",
       "      <td>0.980000</td>\n",
       "      <td>0.030551</td>\n",
       "      <td>1</td>\n",
       "      <td>0.981481</td>\n",
       "      <td>0.005972</td>\n",
       "    </tr>\n",
       "    <tr>\n",
       "      <th>1</th>\n",
       "      <td>0.000283</td>\n",
       "      <td>0.000015</td>\n",
       "      <td>0.000140</td>\n",
       "      <td>1.257567e-05</td>\n",
       "      <td>2</td>\n",
       "      <td>poly</td>\n",
       "      <td>NaN</td>\n",
       "      <td>NaN</td>\n",
       "      <td>{'degree': 2, 'kernel': 'poly'}</td>\n",
       "      <td>0.980000</td>\n",
       "      <td>0.042687</td>\n",
       "      <td>1</td>\n",
       "      <td>0.981481</td>\n",
       "      <td>0.006829</td>\n",
       "    </tr>\n",
       "    <tr>\n",
       "      <th>3</th>\n",
       "      <td>0.000414</td>\n",
       "      <td>0.000052</td>\n",
       "      <td>0.000151</td>\n",
       "      <td>7.885890e-06</td>\n",
       "      <td>NaN</td>\n",
       "      <td>rbf</td>\n",
       "      <td>1</td>\n",
       "      <td>NaN</td>\n",
       "      <td>{'C': 1, 'kernel': 'rbf'}</td>\n",
       "      <td>0.980000</td>\n",
       "      <td>0.030551</td>\n",
       "      <td>1</td>\n",
       "      <td>0.985926</td>\n",
       "      <td>0.005185</td>\n",
       "    </tr>\n",
       "    <tr>\n",
       "      <th>7</th>\n",
       "      <td>0.000266</td>\n",
       "      <td>0.000017</td>\n",
       "      <td>0.000134</td>\n",
       "      <td>1.002776e-06</td>\n",
       "      <td>NaN</td>\n",
       "      <td>linear</td>\n",
       "      <td>10</td>\n",
       "      <td>0.1</td>\n",
       "      <td>{'C': 10, 'gamma': 0.1, 'kernel': 'linear'}</td>\n",
       "      <td>0.980000</td>\n",
       "      <td>0.042687</td>\n",
       "      <td>1</td>\n",
       "      <td>0.980000</td>\n",
       "      <td>0.006667</td>\n",
       "    </tr>\n",
       "    <tr>\n",
       "      <th>8</th>\n",
       "      <td>0.000261</td>\n",
       "      <td>0.000011</td>\n",
       "      <td>0.000143</td>\n",
       "      <td>2.619269e-05</td>\n",
       "      <td>NaN</td>\n",
       "      <td>linear</td>\n",
       "      <td>10</td>\n",
       "      <td>1</td>\n",
       "      <td>{'C': 10, 'gamma': 1, 'kernel': 'linear'}</td>\n",
       "      <td>0.980000</td>\n",
       "      <td>0.042687</td>\n",
       "      <td>1</td>\n",
       "      <td>0.980000</td>\n",
       "      <td>0.006667</td>\n",
       "    </tr>\n",
       "    <tr>\n",
       "      <th>2</th>\n",
       "      <td>0.001639</td>\n",
       "      <td>0.000929</td>\n",
       "      <td>0.000140</td>\n",
       "      <td>5.047722e-06</td>\n",
       "      <td>3</td>\n",
       "      <td>poly</td>\n",
       "      <td>NaN</td>\n",
       "      <td>NaN</td>\n",
       "      <td>{'degree': 3, 'kernel': 'poly'}</td>\n",
       "      <td>0.973333</td>\n",
       "      <td>0.044222</td>\n",
       "      <td>6</td>\n",
       "      <td>0.981481</td>\n",
       "      <td>0.006829</td>\n",
       "    </tr>\n",
       "    <tr>\n",
       "      <th>4</th>\n",
       "      <td>0.000355</td>\n",
       "      <td>0.000009</td>\n",
       "      <td>0.000142</td>\n",
       "      <td>3.162980e-07</td>\n",
       "      <td>NaN</td>\n",
       "      <td>rbf</td>\n",
       "      <td>10</td>\n",
       "      <td>NaN</td>\n",
       "      <td>{'C': 10, 'kernel': 'rbf'}</td>\n",
       "      <td>0.973333</td>\n",
       "      <td>0.044222</td>\n",
       "      <td>6</td>\n",
       "      <td>0.977037</td>\n",
       "      <td>0.007734</td>\n",
       "    </tr>\n",
       "    <tr>\n",
       "      <th>5</th>\n",
       "      <td>0.000289</td>\n",
       "      <td>0.000076</td>\n",
       "      <td>0.000153</td>\n",
       "      <td>3.291145e-05</td>\n",
       "      <td>NaN</td>\n",
       "      <td>linear</td>\n",
       "      <td>1</td>\n",
       "      <td>0.1</td>\n",
       "      <td>{'C': 1, 'gamma': 0.1, 'kernel': 'linear'}</td>\n",
       "      <td>0.973333</td>\n",
       "      <td>0.044222</td>\n",
       "      <td>6</td>\n",
       "      <td>0.988148</td>\n",
       "      <td>0.004914</td>\n",
       "    </tr>\n",
       "    <tr>\n",
       "      <th>6</th>\n",
       "      <td>0.000248</td>\n",
       "      <td>0.000005</td>\n",
       "      <td>0.000135</td>\n",
       "      <td>6.312467e-07</td>\n",
       "      <td>NaN</td>\n",
       "      <td>linear</td>\n",
       "      <td>1</td>\n",
       "      <td>1</td>\n",
       "      <td>{'C': 1, 'gamma': 1, 'kernel': 'linear'}</td>\n",
       "      <td>0.973333</td>\n",
       "      <td>0.044222</td>\n",
       "      <td>6</td>\n",
       "      <td>0.988148</td>\n",
       "      <td>0.004914</td>\n",
       "    </tr>\n",
       "  </tbody>\n",
       "</table>\n",
       "</div>"
      ],
      "text/plain": [
       "   mean_fit_time  std_fit_time  mean_score_time  std_score_time param_degree  \\\n",
       "0       0.000303      0.000034         0.000142    9.476231e-06            1   \n",
       "1       0.000283      0.000015         0.000140    1.257567e-05            2   \n",
       "3       0.000414      0.000052         0.000151    7.885890e-06          NaN   \n",
       "7       0.000266      0.000017         0.000134    1.002776e-06          NaN   \n",
       "8       0.000261      0.000011         0.000143    2.619269e-05          NaN   \n",
       "2       0.001639      0.000929         0.000140    5.047722e-06            3   \n",
       "4       0.000355      0.000009         0.000142    3.162980e-07          NaN   \n",
       "5       0.000289      0.000076         0.000153    3.291145e-05          NaN   \n",
       "6       0.000248      0.000005         0.000135    6.312467e-07          NaN   \n",
       "\n",
       "  param_kernel param_C param_gamma  \\\n",
       "0         poly     NaN         NaN   \n",
       "1         poly     NaN         NaN   \n",
       "3          rbf       1         NaN   \n",
       "7       linear      10         0.1   \n",
       "8       linear      10           1   \n",
       "2         poly     NaN         NaN   \n",
       "4          rbf      10         NaN   \n",
       "5       linear       1         0.1   \n",
       "6       linear       1           1   \n",
       "\n",
       "                                        params  mean_test_score  \\\n",
       "0              {'degree': 1, 'kernel': 'poly'}         0.980000   \n",
       "1              {'degree': 2, 'kernel': 'poly'}         0.980000   \n",
       "3                    {'C': 1, 'kernel': 'rbf'}         0.980000   \n",
       "7  {'C': 10, 'gamma': 0.1, 'kernel': 'linear'}         0.980000   \n",
       "8    {'C': 10, 'gamma': 1, 'kernel': 'linear'}         0.980000   \n",
       "2              {'degree': 3, 'kernel': 'poly'}         0.973333   \n",
       "4                   {'C': 10, 'kernel': 'rbf'}         0.973333   \n",
       "5   {'C': 1, 'gamma': 0.1, 'kernel': 'linear'}         0.973333   \n",
       "6     {'C': 1, 'gamma': 1, 'kernel': 'linear'}         0.973333   \n",
       "\n",
       "   std_test_score  rank_test_score  mean_train_score  std_train_score  \n",
       "0        0.030551                1          0.981481         0.005972  \n",
       "1        0.042687                1          0.981481         0.006829  \n",
       "3        0.030551                1          0.985926         0.005185  \n",
       "7        0.042687                1          0.980000         0.006667  \n",
       "8        0.042687                1          0.980000         0.006667  \n",
       "2        0.044222                6          0.981481         0.006829  \n",
       "4        0.044222                6          0.977037         0.007734  \n",
       "5        0.044222                6          0.988148         0.004914  \n",
       "6        0.044222                6          0.988148         0.004914  "
      ]
     },
     "execution_count": 37,
     "metadata": {},
     "output_type": "execute_result"
    }
   ],
   "source": [
    "from sklearn import svm, datasets\n",
    "from sklearn.model_selection import GridSearchCV\n",
    "import pandas as pd\n",
    "\n",
    "iris = datasets.load_iris()\n",
    "digits = datasets.load_digits()\n",
    "\n",
    "parameters = [{'kernel':['poly'], 'degree':[1, 2,3]}, {'kernel': ['rbf'], 'C': [1,10]}, {'kernel': ['linear'], 'C': [1,10], 'gamma': [0.1,1]}]\n",
    "svc = svm.SVC()\n",
    "clf = GridSearchCV(svc, parameters, cv=10)\n",
    "clf.fit(iris.data, iris.target)\n",
    "#clf.fit(digits.data, digits.target)\n",
    "df = pd.DataFrame(clf.cv_results_)\n",
    "# should be 9 parameter settings\n",
    "assert df.shape[0] == 9 \n",
    "df.sort_values('mean_test_score', ascending=False, inplace=True)\n",
    "important_cols = [col for col in df.columns.values if not 'split' in col]\n",
    "df[important_cols]"
   ]
  },
  {
   "cell_type": "markdown",
   "metadata": {},
   "source": [
    "### Training with without a lib\n",
    "For the sport of it we will do our own version of gradient descent and see if we can learn something!\n",
    "\n",
    "First off, we will use the data set we just created and build a linear binary classifier for it.\n",
    "That is, $h(x,y) = ax + by + c$.\n",
    "\n",
    "The last term is called the bias term. Note that the classifier is a dot-product of vectors:\n",
    "\n",
    "$h(x,y) = w \\cdot X$, where\n",
    "\n",
    "$w = [a,b,c]$, and\n",
    "\n",
    "$X = [x,y,1]$.\n",
    "\n",
    "Thus we have three things at play, the hypothesis $h$, its weight vector $w$, and an augmented feature vector $X$.\n",
    "Note that implementing the bias by adding this last 'always-on' feature to $X$ makes the formula for $h$ very elegant.\n",
    "\n",
    "Now imagine we have a loss function $L$, but we haven't decided quite yet which loss function we want.\n",
    "For each example $(X,c)$, where $c$ is the target, the loss for that example is $L = L(h(X),c)$. We can see this as having one loss-function for $c=-1$ and one for $c=1$, but for this example we are using one of these. To simplify further and lets assume $L = L(ch(X))$.\n",
    "\n",
    "Let's differentiate one of these with respect to one of the weights $w_i$:\n",
    "\n",
    "$$\\frac{\\partial L}{\\partial w_i} = L'(ch(X)) \\frac{\\partial ch(X)}{\\partial w_i} = L'(ch(X)) \\frac{\\partial (w \\cdot X)}{\\partial w_i} = cL'(ch(X))X_i$$.\n",
    "\n",
    "Putting the three partial derivatives in one vector gives us the gradient of the loss\n",
    "\n",
    "$$\\nabla_w L = cL'(ch(X))X$$.\n",
    "\n",
    "Let's pause and examine. The number $cL'(ch(X))$, whatever it is can be seen as a weight or importance of the example X. What gradient descent now wants to do is add $\\nabla_w L$ to the weight vector $w$. So some conclusions:\n",
    "\n",
    "- The update to $w$ is a linear combination of all the examples $X$.\n",
    "- In general $w = w_0 + X^T W$, that is, a (small) start value plus a linear combination of the training examples.\n",
    "- To compute the gradient, we don't need a formula for $L$, we can design $L'$ directly!\n",
    "\n",
    "In general it is better to have a loss function that focuses on the biggest mistakes. An idea we can try is to let\n",
    "$$L'(h(X),c) = e^{-ch(X)}$$.\n",
    "\n",
    "So if $c=1$, the examples with lowest $h(X)$ will be seen as the most important mistakes, and for $c=-1$, the training will focus on examples with highest $h(X)$.\n",
    "\n",
    "We have to apply one trick. This loss will strongly focus on the single or few biggest mistakes which makes learning unstable and noisy. A remedy is to take the median of $L'$ over all examples and truncate $L'$ at a maximum of the median value.\n",
    "\n",
    "Finally we will normalize the example weights so that they sum to $1$."
   ]
  },
  {
   "cell_type": "markdown",
   "metadata": {},
   "source": [
    "### Exercise\n",
    "- Define the derivative of L as a function to be the exponential function above. Use np.exp.\n",
    "- Note that we want L' and not cL'.\n",
    "- The function has only one argument s, which means the caller should provide the value $s=ch(X)$.\n",
    "- Name the function dL."
   ]
  },
  {
   "cell_type": "code",
   "execution_count": 38,
   "metadata": {},
   "outputs": [],
   "source": [
    "def dL(s):\n",
    "    return np.exp(-s)"
   ]
  },
  {
   "cell_type": "markdown",
   "metadata": {},
   "source": [
    "### Exercise\n",
    "- Define the hypothesis as a function h(X,w).\n",
    "- The weight vector w has shape (3,).\n",
    "- The input X is a numpy array with shape (N,3).\n",
    "- The output is a numpy array with shape (N,).\n",
    "\n",
    "Comment: the output represents the classifier's score for all of the $N$ examples.\n",
    "\n",
    "Hint: You can use matrix multiplication or indexing."
   ]
  },
  {
   "cell_type": "code",
   "execution_count": 39,
   "metadata": {},
   "outputs": [],
   "source": [
    "def h(X,w):\n",
    "    return np.matmul(X,w)"
   ]
  },
  {
   "cell_type": "markdown",
   "metadata": {},
   "source": [
    "### Exercise\n",
    "- Create X by copying data.\n",
    "- Replace the target column's values by all 1's."
   ]
  },
  {
   "cell_type": "code",
   "execution_count": 40,
   "metadata": {
    "scrolled": true
   },
   "outputs": [],
   "source": [
    "X = data.copy()\n",
    "X[:,2] = 1"
   ]
  },
  {
   "cell_type": "markdown",
   "metadata": {},
   "source": [
    "### Exercise\n",
    "- Fill in the gaps in the fit method below, indicated by tripple comments ###."
   ]
  },
  {
   "cell_type": "code",
   "execution_count": 41,
   "metadata": {},
   "outputs": [
    {
     "name": "stdout",
     "output_type": "stream",
     "text": [
      "accuracy for epoch 0 is 0.2035\n",
      "accuracy for epoch 1 is 0.703\n",
      "accuracy for epoch 2 is 0.742\n",
      "accuracy for epoch 3 is 0.777\n",
      "accuracy for epoch 4 is 0.813\n",
      "accuracy for epoch 5 is 0.844\n",
      "accuracy for epoch 6 is 0.8725\n",
      "accuracy for epoch 7 is 0.896\n",
      "accuracy for epoch 8 is 0.9175\n",
      "accuracy for epoch 9 is 0.936\n",
      "accuracy for epoch 10 is 0.9485\n",
      "accuracy for epoch 11 is 0.96\n",
      "accuracy for epoch 12 is 0.9675\n",
      "accuracy for epoch 13 is 0.972\n",
      "accuracy for epoch 14 is 0.9735\n",
      "accuracy for epoch 15 is 0.976\n",
      "accuracy for epoch 16 is 0.9765\n",
      "accuracy for epoch 17 is 0.978\n",
      "accuracy for epoch 18 is 0.9805\n",
      "accuracy for epoch 19 is 0.981\n"
     ]
    },
    {
     "data": {
      "image/png": "[encoded data removed]",
      "text/plain": [
       "<Figure size 432x288 with 1 Axes>"
      ]
     },
     "metadata": {},
     "output_type": "display_data"
    }
   ],
   "source": [
    "# Learning rate, try different values if you want. What is the connection to epochs?\n",
    "lr = 1.5\n",
    "# Epochs is the number of passes through the data and also the number of weight updates.\n",
    "epochs = 20\n",
    "\n",
    "# x values for plotting\n",
    "ticks = [-4 + 0.16*t for t in range(100)]\n",
    "\n",
    "# plot data \n",
    "plt.scatter(twoD2[:,0], twoD2[:,1], c='pink')\n",
    "plt.scatter(twoD[:,0], twoD[:,1], c='gray')\n",
    "\n",
    "# initialization of weights\n",
    "w = np.random.randn(3)\n",
    "\n",
    "for epoch in range(epochs):\n",
    "    # compute gradient\n",
    "    scores = h(X,w)\n",
    "    sign_scores = scores * data[:,2]\n",
    "    acc = (sign_scores > 0).sum()/2000\n",
    "    print('accuracy for epoch %s is %s' % (epoch, acc))\n",
    "    example_weights = dL(sign_scores)\n",
    "    median = np.median(example_weights)\n",
    "    example_weights = np.array([w if w < median else median for w in example_weights])\n",
    "    example_weights /= example_weights.sum()\n",
    "    example_weights = example_weights * data[:,2]\n",
    "    grad = np.matmul(X.T,example_weights)\n",
    "    # update weights\n",
    "    w += lr*grad\n",
    "    a, b, c = w\n",
    "    # y-values of the decision boundary line\n",
    "    boundary_y = [-(a*x + c)/b for x in ticks]\n",
    "    boundary_y = [b if b < 15 else 15 for b in boundary_y]\n",
    "    boundary_y = [b if b > -15 else -15 for b in boundary_y]\n",
    "    gray = 1-epoch/epochs\n",
    "    plt.plot(ticks, boundary_y, label='epoch: ' + str(epoch), c = (gray,gray,gray))\n",
    "    \n",
    "plt.legend()\n",
    "plt.show()"
   ]
  }
 ],
 "metadata": {
  "kernelspec": {
   "display_name": "Python 3",
   "language": "python",
   "name": "python3"
  },
  "language_info": {
   "codemirror_mode": {
    "name": "ipython",
    "version": 3
   },
   "file_extension": ".py",
   "mimetype": "text/x-python",
   "name": "python",
   "nbconvert_exporter": "python",
   "pygments_lexer": "ipython3",
   "version": "3.6.6"
  }
 },
 "nbformat": 4,
 "nbformat_minor": 2
}
